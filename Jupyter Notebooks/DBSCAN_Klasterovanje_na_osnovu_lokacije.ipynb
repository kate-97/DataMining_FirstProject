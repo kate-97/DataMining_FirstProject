{
 "cells": [
  {
   "cell_type": "markdown",
   "metadata": {},
   "source": [
    "# Primena **DBSCAN** algoritma na podatke o geografskoj lokaciji aerodroma"
   ]
  },
  {
   "cell_type": "markdown",
   "metadata": {},
   "source": [
    "## Vršimo neophodne *import* - e"
   ]
  },
  {
   "cell_type": "code",
   "execution_count": 1,
   "metadata": {},
   "outputs": [],
   "source": [
    "import pandas as pd # Pandas biblioteka za DataFrame strukturu\n",
    "import numpy as np  # Numpy biblioteka\n",
    "from matplotlib import pyplot as plt # Biblioteka za vizuelizaciju\n",
    "from mpl_toolkits.basemap import Basemap # Biblioteka za vizuelizaciju mape\n",
    "from copy import deepcopy\n",
    "import math\n",
    "\n",
    "from sklearn.preprocessing import MinMaxScaler # Skaliranje vrednosti atributa na isti interval, (0,1)\n",
    "from sklearn.metrics import silhouette_score # Senka koeficijent, mera kvaliteta klasterovanja\n",
    "from sklearn.cluster import DBSCAN # DBSCAN algoritam za klasterovanje"
   ]
  },
  {
   "cell_type": "markdown",
   "metadata": {},
   "source": [
    "## Učitavanje podataka i upoznavanje sa njima"
   ]
  },
  {
   "cell_type": "code",
   "execution_count": 2,
   "metadata": {},
   "outputs": [
    {
     "data": {
      "text/html": [
       "<div>\n",
       "<style scoped>\n",
       "    .dataframe tbody tr th:only-of-type {\n",
       "        vertical-align: middle;\n",
       "    }\n",
       "\n",
       "    .dataframe tbody tr th {\n",
       "        vertical-align: top;\n",
       "    }\n",
       "\n",
       "    .dataframe thead th {\n",
       "        text-align: right;\n",
       "    }\n",
       "</style>\n",
       "<table border=\"1\" class=\"dataframe\">\n",
       "  <thead>\n",
       "    <tr style=\"text-align: right;\">\n",
       "      <th></th>\n",
       "      <th>Airport ID</th>\n",
       "      <th>Name</th>\n",
       "      <th>City</th>\n",
       "      <th>Country</th>\n",
       "      <th>IATA</th>\n",
       "      <th>ICAO</th>\n",
       "      <th>Latitude</th>\n",
       "      <th>Longitude</th>\n",
       "      <th>Altitude</th>\n",
       "      <th>Timezone</th>\n",
       "      <th>DST</th>\n",
       "      <th>Tz database time zone</th>\n",
       "      <th>Type</th>\n",
       "      <th>Source</th>\n",
       "      <th>Altitude_CATEGORY</th>\n",
       "      <th>Coord_X</th>\n",
       "      <th>Coord_Y</th>\n",
       "      <th>Coord_X_Nearest_End</th>\n",
       "    </tr>\n",
       "  </thead>\n",
       "  <tbody>\n",
       "    <tr>\n",
       "      <th>0</th>\n",
       "      <td>1</td>\n",
       "      <td>Goroka Airport</td>\n",
       "      <td>Goroka</td>\n",
       "      <td>Papua New Guinea</td>\n",
       "      <td>GKA</td>\n",
       "      <td>AYGA</td>\n",
       "      <td>-6.081690</td>\n",
       "      <td>145.391998</td>\n",
       "      <td>5282</td>\n",
       "      <td>10.0</td>\n",
       "      <td>U</td>\n",
       "      <td>Pacific/Port_Moresby</td>\n",
       "      <td>airport</td>\n",
       "      <td>OurAirports</td>\n",
       "      <td>2</td>\n",
       "      <td>16158.656679</td>\n",
       "      <td>-675.910224</td>\n",
       "      <td>3840.837979</td>\n",
       "    </tr>\n",
       "    <tr>\n",
       "      <th>1</th>\n",
       "      <td>2</td>\n",
       "      <td>Madang Airport</td>\n",
       "      <td>Madang</td>\n",
       "      <td>Papua New Guinea</td>\n",
       "      <td>MAG</td>\n",
       "      <td>AYMD</td>\n",
       "      <td>-5.207080</td>\n",
       "      <td>145.789001</td>\n",
       "      <td>20</td>\n",
       "      <td>10.0</td>\n",
       "      <td>U</td>\n",
       "      <td>Pacific/Port_Moresby</td>\n",
       "      <td>airport</td>\n",
       "      <td>OurAirports</td>\n",
       "      <td>1</td>\n",
       "      <td>16202.779039</td>\n",
       "      <td>-578.707337</td>\n",
       "      <td>3796.715620</td>\n",
       "    </tr>\n",
       "    <tr>\n",
       "      <th>2</th>\n",
       "      <td>3</td>\n",
       "      <td>Mount Hagen Kagamuga Airport</td>\n",
       "      <td>Mount Hagen</td>\n",
       "      <td>Papua New Guinea</td>\n",
       "      <td>HGU</td>\n",
       "      <td>AYMH</td>\n",
       "      <td>-5.826790</td>\n",
       "      <td>144.296005</td>\n",
       "      <td>5388</td>\n",
       "      <td>10.0</td>\n",
       "      <td>U</td>\n",
       "      <td>Pacific/Port_Moresby</td>\n",
       "      <td>airport</td>\n",
       "      <td>OurAirports</td>\n",
       "      <td>2</td>\n",
       "      <td>16036.849596</td>\n",
       "      <td>-647.581008</td>\n",
       "      <td>3962.645063</td>\n",
       "    </tr>\n",
       "    <tr>\n",
       "      <th>3</th>\n",
       "      <td>4</td>\n",
       "      <td>Nadzab Airport</td>\n",
       "      <td>Nadzab</td>\n",
       "      <td>Papua New Guinea</td>\n",
       "      <td>LAE</td>\n",
       "      <td>AYNZ</td>\n",
       "      <td>-6.569803</td>\n",
       "      <td>146.725977</td>\n",
       "      <td>239</td>\n",
       "      <td>10.0</td>\n",
       "      <td>U</td>\n",
       "      <td>Pacific/Port_Moresby</td>\n",
       "      <td>airport</td>\n",
       "      <td>OurAirports</td>\n",
       "      <td>1</td>\n",
       "      <td>16306.913146</td>\n",
       "      <td>-730.158416</td>\n",
       "      <td>3692.581512</td>\n",
       "    </tr>\n",
       "    <tr>\n",
       "      <th>4</th>\n",
       "      <td>5</td>\n",
       "      <td>Port Moresby Jacksons International Airport</td>\n",
       "      <td>Port Moresby</td>\n",
       "      <td>Papua New Guinea</td>\n",
       "      <td>POM</td>\n",
       "      <td>AYPY</td>\n",
       "      <td>-9.443380</td>\n",
       "      <td>147.220001</td>\n",
       "      <td>146</td>\n",
       "      <td>10.0</td>\n",
       "      <td>U</td>\n",
       "      <td>Pacific/Port_Moresby</td>\n",
       "      <td>airport</td>\n",
       "      <td>OurAirports</td>\n",
       "      <td>1</td>\n",
       "      <td>16361.818285</td>\n",
       "      <td>-1049.523652</td>\n",
       "      <td>3637.676374</td>\n",
       "    </tr>\n",
       "  </tbody>\n",
       "</table>\n",
       "</div>"
      ],
      "text/plain": [
       "   Airport ID                                         Name          City  \\\n",
       "0           1                               Goroka Airport        Goroka   \n",
       "1           2                               Madang Airport        Madang   \n",
       "2           3                 Mount Hagen Kagamuga Airport   Mount Hagen   \n",
       "3           4                               Nadzab Airport        Nadzab   \n",
       "4           5  Port Moresby Jacksons International Airport  Port Moresby   \n",
       "\n",
       "            Country IATA  ICAO  Latitude   Longitude  Altitude  Timezone DST  \\\n",
       "0  Papua New Guinea  GKA  AYGA -6.081690  145.391998      5282      10.0   U   \n",
       "1  Papua New Guinea  MAG  AYMD -5.207080  145.789001        20      10.0   U   \n",
       "2  Papua New Guinea  HGU  AYMH -5.826790  144.296005      5388      10.0   U   \n",
       "3  Papua New Guinea  LAE  AYNZ -6.569803  146.725977       239      10.0   U   \n",
       "4  Papua New Guinea  POM  AYPY -9.443380  147.220001       146      10.0   U   \n",
       "\n",
       "  Tz database time zone     Type       Source  Altitude_CATEGORY  \\\n",
       "0  Pacific/Port_Moresby  airport  OurAirports                  2   \n",
       "1  Pacific/Port_Moresby  airport  OurAirports                  1   \n",
       "2  Pacific/Port_Moresby  airport  OurAirports                  2   \n",
       "3  Pacific/Port_Moresby  airport  OurAirports                  1   \n",
       "4  Pacific/Port_Moresby  airport  OurAirports                  1   \n",
       "\n",
       "        Coord_X      Coord_Y  Coord_X_Nearest_End  \n",
       "0  16158.656679  -675.910224          3840.837979  \n",
       "1  16202.779039  -578.707337          3796.715620  \n",
       "2  16036.849596  -647.581008          3962.645063  \n",
       "3  16306.913146  -730.158416          3692.581512  \n",
       "4  16361.818285 -1049.523652          3637.676374  "
      ]
     },
     "execution_count": 2,
     "metadata": {},
     "output_type": "execute_result"
    }
   ],
   "source": [
    "# Napomena: Ovo su podaci već delom preprocesirani u IBM-SPSS modeleru\n",
    "df = pd.read_csv(\"../Data/airports_PreprocessedData.csv\")\n",
    "df.head()"
   ]
  },
  {
   "cell_type": "markdown",
   "metadata": {},
   "source": [
    "## Vizuelizacija - pre primene algoritma"
   ]
  },
  {
   "cell_type": "code",
   "execution_count": 3,
   "metadata": {},
   "outputs": [
    {
     "ename": "SyntaxError",
     "evalue": "unexpected character after line continuation character (<ipython-input-3-cd3da5b79e27>, line 6)",
     "output_type": "error",
     "traceback": [
      "\u001b[0;36m  File \u001b[0;32m\"<ipython-input-3-cd3da5b79e27>\"\u001b[0;36m, line \u001b[0;32m6\u001b[0m\n\u001b[0;31m    m = Basemap(projection='cyl', \\   # Biramo cilindričnu projekciju\u001b[0m\n\u001b[0m                                                                     ^\u001b[0m\n\u001b[0;31mSyntaxError\u001b[0m\u001b[0;31m:\u001b[0m unexpected character after line continuation character\n"
     ]
    }
   ],
   "source": [
    "plt.rcParams[\"font.size\"] = 30\n",
    "\n",
    "fig = plt.gcf()\n",
    "fig.set_size_inches(20, 20) # Veličina mape\n",
    "\n",
    "m = Basemap(projection='cyl', \\   # Biramo cilindričnu projekciju\n",
    "            llcrnrlat=-80, urcrnrlat=80, \\\n",
    "            llcrnrlon=-180, urcrnrlon=180, \\\n",
    "            lat_ts=20, \\\n",
    "            resolution='c')\n",
    "\n",
    "m.bluemarble(scale=0.2)   # full scale will be overkill\n",
    "m.drawcoastlines(color='white', linewidth=0.2)  # add coastlines\n",
    "\n",
    "x, y = m(list(df['Longitude']),list(df['Latitude']))  # transform coordinates\n",
    "\n",
    "colors = ['red','green','skyblue'] # Aerodrome bojimo na mapi u zavisnosti od visinske kategorije\n",
    "category_altitude = list(df['Altitude_CATEGORY'])\n",
    "\n",
    "plt.title(\"Aerports\")\n",
    "for i in range(0,len(x)):\n",
    "    plt.scatter(x[i],y[i], color = colors[category_altitude[i] - 1])\n",
    "\n",
    "plt.show()"
   ]
  },
  {
   "cell_type": "markdown",
   "metadata": {},
   "source": [
    "## Preprocesiranje podataka\n",
    "### Izdvajanje karakteristika po kojima vrsimo klasterovanje\n",
    "#### (za početak ćemo vršiti klasterovanje po atributima \n",
    "####  *Longitude* , *Latitude* i *Altitude* "
   ]
  },
  {
   "cell_type": "code",
   "execution_count": null,
   "metadata": {},
   "outputs": [],
   "source": [
    "features = df.columns[6:8]\n",
    "df[features].head()"
   ]
  },
  {
   "cell_type": "markdown",
   "metadata": {},
   "source": [
    "## Preprocesiranje podataka\n",
    "### Skaliranje raspona vrednosti svih atributa po kojima\n",
    "### vršimo skaliranje na interval $(0,1)$"
   ]
  },
  {
   "cell_type": "code",
   "execution_count": null,
   "metadata": {},
   "outputs": [],
   "source": [
    "scaler = MinMaxScaler()\n",
    "scaler.fit(df[features]) # Za svaki atribut nalazi najveću i najmanju vrednost, na osnovu njih će skalirati\n",
    "x = pd.DataFrame(scaler.transform(df[features])) # Skaliranje vrednosti\n",
    "x.columns = features\n",
    "x.head()"
   ]
  },
  {
   "cell_type": "markdown",
   "metadata": {},
   "source": [
    "## Primena algoritma **DBSCAN** za različite vrednosti parametara i upoređivanje rezultata\n",
    "\n",
    "  Dobijena vizuelizacija nam može pomoći pri proceni za odabir parametara, $\\varepsilon$ i minimalnog broja suseda. Više puta ćemo pokušavati sa različitim kombinacijama. "
   ]
  },
  {
   "cell_type": "code",
   "execution_count": null,
   "metadata": {},
   "outputs": [],
   "source": [
    "colors = ['red','deepskyblue','gold','lightgreen','palevioletred','purple','orangered',\n",
    "          'blueviolet','darkblue','cadetblue','indigo','tomato','mediumaquamarine',\n",
    "          'olive','c','maroon','darkseagreen','cornflowerblue','orchid','lightcoral',\n",
    "          'lavender','slateblue','yellowgreen','forestgreen','antiquewhite', 'sienna',\n",
    "          'darkcyan','deeppink','thistle','plum','powderblue','sandybrown','m',\n",
    "          'chartreuse','lemonchiffon','mistyrose','darkmagenta','brown','peru',\n",
    "          'chocolate','royalblue']\n",
    "\n",
    "# Prvo ćemo napisati funkciju za treniranje modela, ispis rezultata i prikaz\n",
    "# df - originalni DataFrame koji obrađujemo\n",
    "# x - DataFrame sa skaliranim vrednostima i izdvojenim karakteristikama, eps i min_samples\n",
    "def model_DBSCAN(df,x,eps,min_samples):\n",
    "    est = DBSCAN(eps = eps,min_samples = min_samples) # Pravimo instancu modela\n",
    "    est.fit(x) # Treniramo model\n",
    "    \n",
    "    df['labels'] = est.labels_ # Dodeljujemo dobijene klastere\n",
    "    \n",
    "    senka_koeficijent = silhouette_score(x, est.labels_)\n",
    "    # Ispisujemo kvalitet klasterovanja\n",
    "    print(\"** Dobijeni senka koeficijent je {} \".format(senka_koeficijent))\n",
    "    if senka_koeficijent <= 0.0:\n",
    "        print(\"-- Los kvalitet klasterovanja (POOR)\")\n",
    "    \n",
    "    elif senka_koeficijent <= 0.5:\n",
    "        print(\"-- Nije dobar kvalitet klasterovanja (FAIR)\")\n",
    "    \n",
    "    elif senka_koeficijent < 0.7:\n",
    "        print(\"-- Dobar kvalitet klasterovanja (GOOD)\")\n",
    "        \n",
    "    else:\n",
    "        print(\"-- Najbolji kvalitet klasterovanja, klasteri su gusti i dobro grupisani (GOOD)\")\n",
    "    num_of_clusters = max(df['labels']) + 1\n",
    "    \n",
    "    # Iscrtavamo klastere na mapi\n",
    "    \n",
    "    figure = plt.figure(figsize= (20,9.5))\n",
    "    for i in range(-1,num_of_clusters):\n",
    "        \n",
    "        if i == -1: # Da li trenutno crtamo šum\n",
    "            label = \"noise\"\n",
    "            color = \"lightgray\"\n",
    "        else:\n",
    "            label = \"cluster %d\"%i\n",
    "            color = colors[i]\n",
    "        \n",
    "        # Elementi koji pripadaju klasteru koji trenutno crtamo\n",
    "        current_cluster = df[df['labels'] == i]\n",
    "        plt.scatter(current_cluster['Longitude'], current_cluster['Latitude'], \n",
    "                   color = color, label = label)\n",
    "    plt.legend()\n",
    "    plt.show()\n",
    "    "
   ]
  },
  {
   "cell_type": "code",
   "execution_count": null,
   "metadata": {},
   "outputs": [],
   "source": [
    "# Prva procena: eps = 0.05 , minimalan broj suseda = 100\n",
    "\n",
    "model_DBSCAN(df = df,x = x,eps = 0.05, min_samples= 100)"
   ]
  },
  {
   "cell_type": "markdown",
   "metadata": {},
   "source": [
    "### Analiza dosadašnjih rezultata i procene za dalje pokušaje\n",
    "\n",
    "  Rezultat nije dobar kao sto smo očekivali. Veliki broj elemenata je proglašen šumom. S druge strane, klasteri nisu ni previše gusti.\n",
    "  \n",
    "  Na ovoj slici vidimo i problem sa našim podacima. U Evropi, Severnoj Americi, po obodima Južne Amerike i Afrike je prilično velika gustina aerodroma. Za razliku od tih delova sveta, u većem delu Azije nema toliko gustih delova koji bi obuhvatili ostale aerodrome u svoj klaster.\n",
    "  \n",
    "  **Novi pokušaj:** Ostavićemo trenutno isto $\\varepsilon$, a pokušaćemo sa manjim brojem\n",
    "  minimalnog broja suseda."
   ]
  },
  {
   "cell_type": "code",
   "execution_count": null,
   "metadata": {},
   "outputs": [],
   "source": [
    "# Nova procena: eps = 0.05, minimalan broj suseda = 90\n",
    "\n",
    "model_DBSCAN(df = df, x = x, eps = 0.05, min_samples = 88)"
   ]
  },
  {
   "cell_type": "code",
   "execution_count": null,
   "metadata": {},
   "outputs": [],
   "source": [
    "# Skoro sve tačke su ostale šum.\n",
    "# Smanjujemo dalje minimalan_broj_suseda za isto epsilon\n",
    "# Nova procena: eps = 0.1, minimalan_broj_suseda = 100\n",
    "\n",
    "model_DBSCAN(df = df, x = x, eps = 0.05, min_samples = 80)"
   ]
  },
  {
   "cell_type": "code",
   "execution_count": null,
   "metadata": {},
   "outputs": [],
   "source": [
    "# Možemo da primetimo nezanemarljivo povećanje senka-koeficijenta.\n",
    "# Na osnovu te mere nam je klasterovanje nesto bolje, ali opet nije blizu dobrog.\n",
    "\n",
    "# Minimalan broj suseda je bio dovoljno mali da neki granični elementi postanu elementi\n",
    "# jezgra i time se dva klastera (aerodroma iz Afrike i Evrope) spoje u jedan, ali opet ne dovoljno mali da bi neki element\n",
    "# sa severa Azije postao element jezgra.\n",
    "# Svejedno, još ćemo smanjivati minimalan_broj_suseda da vidimo šta će dalje da se menja.\n",
    "\n",
    "model_DBSCAN(df = df, x = x, eps = 0.05, min_samples = 68)"
   ]
  },
  {
   "cell_type": "code",
   "execution_count": null,
   "metadata": {},
   "outputs": [],
   "source": [
    "# Samo neznatno raste senka koeficijent.\n",
    "model_DBSCAN(df = df, x = x, eps = 0.05, min_samples = 59)"
   ]
  },
  {
   "cell_type": "code",
   "execution_count": null,
   "metadata": {},
   "outputs": [],
   "source": [
    "model_DBSCAN(df = df, x = x, eps = 0.05, min_samples = 58)"
   ]
  },
  {
   "cell_type": "markdown",
   "metadata": {},
   "source": [
    "### Analiza dosadasnjih rezultata i procene za dalje pokusaje\n",
    "\n",
    "  U pretposlednja 2 pokusaja smo postigli najveci senka koeficijent i tu smo obuhvatili najveći broj elemenata koji su prethodno bili šum. U poslednjem pokušaju, gde je broj suseda bio smanjen za 1 u odnosu na prethodni je obuhvaćeno najviše elemenata i nastao je još jedan klaster. On je mnogo manji od ostalih i znatno je gušći (u odnosu na srednje gustine ostalih).\n",
    "  \n",
    "  Nažalost i najveća dobijena vrednost senka koeficijenta i dalje se ne graniči sa dobrim klasterovanjem. \n",
    "  \n",
    "  Sledeće što možemo da pokušamo je da smanjimo i $\\varepsilon$ i broj suseda."
   ]
  },
  {
   "cell_type": "code",
   "execution_count": null,
   "metadata": {},
   "outputs": [],
   "source": [
    "model_DBSCAN(df = df, x = x, eps = 0.045,min_samples = 80)"
   ]
  },
  {
   "cell_type": "code",
   "execution_count": null,
   "metadata": {},
   "outputs": [],
   "source": [
    "model_DBSCAN(df = df, x = x, eps = 0.045,min_samples = 60)"
   ]
  },
  {
   "cell_type": "code",
   "execution_count": null,
   "metadata": {},
   "outputs": [],
   "source": [
    "model_DBSCAN(df = df,x = x,eps = 0.02, min_samples = 25)"
   ]
  },
  {
   "cell_type": "code",
   "execution_count": null,
   "metadata": {},
   "outputs": [],
   "source": [
    "# Nijednom nismo dobili bolje rezultate. Izvešćemo jos jedan pokušaj, sa većim epsilon.\n",
    "\n",
    "model_DBSCAN(df = df,x = x,eps = 0.07, min_samples = 90)"
   ]
  },
  {
   "cell_type": "markdown",
   "metadata": {},
   "source": [
    "## Zaključak: \n",
    "Jasno je da zbog različite gustine podataka ne možemo dobiti bolje klasterovanje primenom ovog algoritma. Iako smo samo probali sa izdvojenim 'Alitude', 'Latitude' i 'Longitude', jasno je da zbog istog problema ne bi bio bolji rezultat ni sa izdvojenim samo atributima 'Latitude' i 'Longitude', ni sa pristupom 'Longitude', 'Latitude' i 'Altitude_CATEGORY'. Ostavićemo primere i sa druga dva pristupa."
   ]
  },
  {
   "cell_type": "markdown",
   "metadata": {},
   "source": [
    "Pre nego što pokusamo sa izvršavanjem algoritma, moramo da preprocesiramo kategorički atribut 'Altitude_CATEGORY'. Imamo 3 kategorije i za svaku od njih pravimo jedan binarni atribut. Instanca neće imati 0 za tacno jedan atribut, koji odgovara vrednosti  atributa 'Altitude_CATEGORY'. Zbog računanja Euklidskog rastojanja i jednakog uticaja, umesto jedinice koristimo vrednost $\\sqrt{\\frac{1}{2}}$ ."
   ]
  },
  {
   "cell_type": "code",
   "execution_count": null,
   "metadata": {},
   "outputs": [],
   "source": [
    "features = ['Longitude','Latitude'] # Izdvajamo i skaliramo vrednosti atributa Longitude i Latitude\n",
    "x = df[features]\n",
    "scaler = MinMaxScaler().fit(x)\n",
    "x = pd.DataFrame(scaler.transform(x))\n",
    "x.columns = features\n",
    "\n",
    "x['Altitude_CATEGORY'] = df['Altitude_CATEGORY']\n",
    "#x = deepcopy( df[features] )\n",
    "\n",
    "x['CAT_1'] = 0.0   # Nova binarna 3 atributa koji će odgovarati svakoj od mogućih kategorija\n",
    "x['CAT_2'] = 0.0\n",
    "x['CAT_3'] = 0.0\n",
    "fixed_value = math.sqrt(0.5) # Ne-nula vrednost za atribute\n",
    "\n",
    "for i in range(1,4):  # Zamenjujemo nule na odgovarajućim vrednostima\n",
    "    x.loc[x['Altitude_CATEGORY'] == i, 'CAT_%d'%i] = fixed_value\n",
    "\n",
    "x.head()"
   ]
  },
  {
   "cell_type": "code",
   "execution_count": null,
   "metadata": {},
   "outputs": [],
   "source": [
    "# Sada još da uklonimo atribut Altitude_CATEGORY\n",
    "features = ['Latitude','Longitude','CAT_1','CAT_2','CAT_3']\n",
    "x = x[features]\n",
    "x.head()"
   ]
  },
  {
   "cell_type": "code",
   "execution_count": null,
   "metadata": {},
   "outputs": [],
   "source": [
    "# Jedan od pokušaja\n",
    "model_DBSCAN(df = df, x = x, eps = 0.05, min_samples = 59)"
   ]
  },
  {
   "cell_type": "code",
   "execution_count": null,
   "metadata": {},
   "outputs": [],
   "source": [
    "model_DBSCAN(df = df,x = x,eps = 0.07, min_samples = 90)"
   ]
  },
  {
   "cell_type": "code",
   "execution_count": null,
   "metadata": {},
   "outputs": [],
   "source": [
    "model_DBSCAN(df = df,x = x,eps = 0.05, min_samples= 100)"
   ]
  },
  {
   "cell_type": "code",
   "execution_count": null,
   "metadata": {},
   "outputs": [],
   "source": [
    "# Klasterovanje na osnovu samo atributa Latitude i Longitude\n",
    "x = x[['Longitude','Latitude']]\n",
    "model_DBSCAN(df = df,x = x,eps = 0.07, min_samples = 90)"
   ]
  }
 ],
 "metadata": {
  "kernelspec": {
   "display_name": "Python 3",
   "language": "python",
   "name": "python3"
  },
  "language_info": {
   "codemirror_mode": {
    "name": "ipython",
    "version": 3
   },
   "file_extension": ".py",
   "mimetype": "text/x-python",
   "name": "python",
   "nbconvert_exporter": "python",
   "pygments_lexer": "ipython3",
   "version": "3.6.7"
  }
 },
 "nbformat": 4,
 "nbformat_minor": 2
}
